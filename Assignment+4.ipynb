{
 "cells": [
  {
   "cell_type": "markdown",
   "metadata": {},
   "source": [
    "---\n",
    "\n",
    "_You are currently looking at **version 1.1** of this notebook. To download notebooks and datafiles, as well as get help on Jupyter notebooks in the Coursera platform, visit the [Jupyter Notebook FAQ](https://www.coursera.org/learn/python-data-analysis/resources/0dhYG) course resource._\n",
    "\n",
    "---"
   ]
  },
  {
   "cell_type": "code",
   "execution_count": 67,
   "metadata": {
    "collapsed": true
   },
   "outputs": [],
   "source": [
    "import pandas as pd\n",
    "import numpy as np\n",
    "from scipy.stats import ttest_ind\n",
    "import matplotlib.pyplot as plt"
   ]
  },
  {
   "cell_type": "markdown",
   "metadata": {},
   "source": [
    "# Assignment 4 - Hypothesis Testing\n",
    "This assignment requires more individual learning than previous assignments - you are encouraged to check out the [pandas documentation](http://pandas.pydata.org/pandas-docs/stable/) to find functions or methods you might not have used yet, or ask questions on [Stack Overflow](http://stackoverflow.com/) and tag them as pandas and python related. And of course, the discussion forums are open for interaction with your peers and the course staff.\n",
    "\n",
    "Definitions:\n",
    "* A _quarter_ is a specific three month period, Q1 is January through March, Q2 is April through June, Q3 is July through September, Q4 is October through December.\n",
    "* A _recession_ is defined as starting with two consecutive quarters of GDP decline, and ending with two consecutive quarters of GDP growth.\n",
    "* A _recession bottom_ is the quarter within a recession which had the lowest GDP.\n",
    "* A _university town_ is a city which has a high percentage of university students compared to the total population of the city.\n",
    "\n",
    "**Hypothesis**: University towns have their mean housing prices less effected by recessions. Run a t-test to compare the ratio of the mean price of houses in university towns the quarter before the recession starts compared to the recession bottom. (`price_ratio=quarter_before_recession/recession_bottom`)\n",
    "\n",
    "The following data files are available for this assignment:\n",
    "* From the [Zillow research data site](http://www.zillow.com/research/data/) there is housing data for the United States. In particular the datafile for [all homes at a city level](http://files.zillowstatic.com/research/public/City/City_Zhvi_AllHomes.csv), ```City_Zhvi_AllHomes.csv```, has median home sale prices at a fine grained level.\n",
    "* From the Wikipedia page on college towns is a list of [university towns in the United States](https://en.wikipedia.org/wiki/List_of_college_towns#College_towns_in_the_United_States) which has been copy and pasted into the file ```university_towns.txt```.\n",
    "* From Bureau of Economic Analysis, US Department of Commerce, the [GDP over time](http://www.bea.gov/national/index.htm#gdp) of the United States in current dollars (use the chained value in 2009 dollars), in quarterly intervals, in the file ```gdplev.xls```. For this assignment, only look at GDP data from the first quarter of 2000 onward.\n",
    "\n",
    "Each function in this assignment below is worth 10%, with the exception of ```run_ttest()```, which is worth 50%."
   ]
  },
  {
   "cell_type": "code",
   "execution_count": 2,
   "metadata": {
    "collapsed": true
   },
   "outputs": [],
   "source": [
    "# Use this dictionary to map state names to two letter acronyms\n",
    "states = {'OH': 'Ohio', 'KY': 'Kentucky', 'AS': 'American Samoa', 'NV': 'Nevada', 'WY': 'Wyoming', 'NA': 'National', 'AL': 'Alabama', 'MD': 'Maryland', 'AK': 'Alaska', 'UT': 'Utah', 'OR': 'Oregon', 'MT': 'Montana', 'IL': 'Illinois', 'TN': 'Tennessee', 'DC': 'District of Columbia', 'VT': 'Vermont', 'ID': 'Idaho', 'AR': 'Arkansas', 'ME': 'Maine', 'WA': 'Washington', 'HI': 'Hawaii', 'WI': 'Wisconsin', 'MI': 'Michigan', 'IN': 'Indiana', 'NJ': 'New Jersey', 'AZ': 'Arizona', 'GU': 'Guam', 'MS': 'Mississippi', 'PR': 'Puerto Rico', 'NC': 'North Carolina', 'TX': 'Texas', 'SD': 'South Dakota', 'MP': 'Northern Mariana Islands', 'IA': 'Iowa', 'MO': 'Missouri', 'CT': 'Connecticut', 'WV': 'West Virginia', 'SC': 'South Carolina', 'LA': 'Louisiana', 'KS': 'Kansas', 'NY': 'New York', 'NE': 'Nebraska', 'OK': 'Oklahoma', 'FL': 'Florida', 'CA': 'California', 'CO': 'Colorado', 'PA': 'Pennsylvania', 'DE': 'Delaware', 'NM': 'New Mexico', 'RI': 'Rhode Island', 'MN': 'Minnesota', 'VI': 'Virgin Islands', 'NH': 'New Hampshire', 'MA': 'Massachusetts', 'GA': 'Georgia', 'ND': 'North Dakota', 'VA': 'Virginia'}"
   ]
  },
  {
   "cell_type": "code",
   "execution_count": null,
   "metadata": {
    "collapsed": true
   },
   "outputs": [],
   "source": []
  },
  {
   "cell_type": "code",
   "execution_count": 68,
   "metadata": {
    "collapsed": true,
    "umich_part_id": "021",
    "umich_partlist_id": "004"
   },
   "outputs": [],
   "source": [
    "def get_list_of_university_towns():\n",
    "#     '''Returns a DataFrame of towns and the states they are in from the \n",
    "#     university_towns.txt list. The format of the DataFrame should be:\n",
    "#     DataFrame( [ [\"Michigan\", \"Ann Arbor\"], [\"Michigan\", \"Yipsilanti\"] ], \n",
    "#     columns=[\"State\", \"RegionName\"]  )\n",
    "    \n",
    "#     The following cleaning needs to be done:\n",
    "\n",
    "#     1. For \"State\", removing characters from \"[\" to the end.\n",
    "#     2. For \"RegionName\", when applicable, removing every character from \" (\" to the end.\n",
    "#     3. Depending on how you read the data, you may need to remove newline character '\\n'. '''\n",
    "    #Read the file\n",
    "    states_towns_raw = pd.read_table('university_towns.txt',header=None).rename(columns={0: 'Raw'})\n",
    "    ##Create an empty dataframe\n",
    "    col_names =  ['State', 'RegionName']\n",
    "    states_towns  = pd.DataFrame(columns = col_names)\n",
    "\n",
    "    ##Repeat the state (which ends with \"[edit]\"), then insert each state,region as a row in the empty dataframe\n",
    "    State = None\n",
    "    for region in states_towns_raw['Raw']:\n",
    "        if region[-6:] == \"[edit]\":\n",
    "            State = region[:-6]\n",
    "        else:\n",
    "            states_towns = states_towns.append({'State': State,'RegionName': region.split(' (')[0]},ignore_index=True)\n",
    "    return states_towns"
   ]
  },
  {
   "cell_type": "code",
   "execution_count": null,
   "metadata": {
    "collapsed": true,
    "scrolled": true
   },
   "outputs": [],
   "source": []
  },
  {
   "cell_type": "code",
   "execution_count": null,
   "metadata": {
    "collapsed": true
   },
   "outputs": [],
   "source": []
  },
  {
   "cell_type": "code",
   "execution_count": 69,
   "metadata": {
    "collapsed": true,
    "umich_part_id": "022",
    "umich_partlist_id": "004"
   },
   "outputs": [],
   "source": [
    "def get_recession_start():\n",
    "    '''Returns the year and quarter of the recession start time as a \n",
    "    string value in a format such as 2005q3'''\n",
    "    GDP_yearly = pd.read_excel('gdplev.xls',skiprows=78,skipfooter=191)\n",
    "    GDP_yearly = GDP_yearly.drop(['Unnamed: 3', '1964q3',692.8,3766.9,'Unnamed: 7'], axis=1)\n",
    "    GDP_yearly.columns = ['year', 'GDP in billions of current dollars','GDP in billions of chained 2009 dollars']\n",
    "\n",
    "    GDP_quar = pd.read_excel('gdplev.xls',skiprows=219)\n",
    "    GDP_quar = GDP_quar.drop(['Unnamed: 0', 'Unnamed: 1','Unnamed: 2','Unnamed: 3','Unnamed: 7'], axis=1)\n",
    "    GDP_quar.columns = ['yearQuar', 'GDP in billions of current dollars','GDP in billions of chained 2009 dollars']\n",
    "\n",
    "    GDP_quar['PrevGdp'] = GDP_quar['GDP in billions of current dollars'].shift(1)\n",
    "    GDP_quar['NxtGdp'] = GDP_quar['GDP in billions of current dollars'].shift(-1)\n",
    "    GDP_quar['flag'] = (GDP_quar['GDP in billions of current dollars'] - GDP_quar['PrevGdp']) > 0\n",
    "    GDP_quar['NxtFlag'] = GDP_quar['flag'].shift(-1)\n",
    "    GDP_quar['NxtDoubleFlag'] = GDP_quar['flag'].shift(-2)\n",
    "    GDP_quar['PrvFlag'] = GDP_quar['flag'].shift(1)\n",
    "    GDP_quar['PrvDoubleFlag'] = GDP_quar['flag'].shift(2)\n",
    "    GDP_quar['PrvTripleFlag'] = GDP_quar['flag'].shift(3)\n",
    "    GDP_quar['PrvQuadFlag'] = GDP_quar['flag'].shift(4)\n",
    "    GDP_quar['StartRecc'] = GDP_quar.apply(lambda x:1 if (x['NxtDoubleFlag'] == False and x['NxtFlag'] == False) else 0, axis = 1)\n",
    "    GDP_quar['BottomRecc'] = GDP_quar.apply(lambda x:1 if \n",
    "                                         (x['NxtDoubleFlag'] == True and x['NxtFlag'] == True and \n",
    "                                         x['PrvDoubleFlag'] == False and x['PrvFlag'] == False) else 0, axis = 1)\n",
    "    GDP_quar['EndRecc'] = GDP_quar.apply(lambda x:1 if \n",
    "                                         (x['flag'] == True and x['PrvFlag'] == True and \n",
    "                                         x['PrvDoubleFlag'] == False and x['PrvTripleFlag'] == False) else 0, axis = 1)\n",
    "    \n",
    "    \n",
    "    return GDP_quar[GDP_quar['StartRecc'] == 1].iloc[0]['yearQuar']"
   ]
  },
  {
   "cell_type": "code",
   "execution_count": 70,
   "metadata": {
    "collapsed": true,
    "umich_part_id": "023",
    "umich_partlist_id": "004"
   },
   "outputs": [],
   "source": [
    "def get_recession_end():\n",
    "    '''Returns the year and quarter of the recession end time as a \n",
    "    string value in a format such as 2005q3'''\n",
    "    GDP_yearly = pd.read_excel('gdplev.xls',skiprows=78,skipfooter=191)\n",
    "    GDP_yearly = GDP_yearly.drop(['Unnamed: 3', '1964q3',692.8,3766.9,'Unnamed: 7'], axis=1)\n",
    "    GDP_yearly.columns = ['year', 'GDP in billions of current dollars','GDP in billions of chained 2009 dollars']\n",
    "\n",
    "    GDP_quar = pd.read_excel('gdplev.xls',skiprows=219)\n",
    "    GDP_quar = GDP_quar.drop(['Unnamed: 0', 'Unnamed: 1','Unnamed: 2','Unnamed: 3','Unnamed: 7'], axis=1)\n",
    "    GDP_quar.columns = ['yearQuar', 'GDP in billions of current dollars','GDP in billions of chained 2009 dollars']\n",
    "\n",
    "    GDP_quar['PrevGdp'] = GDP_quar['GDP in billions of current dollars'].shift(1)\n",
    "    GDP_quar['NxtGdp'] = GDP_quar['GDP in billions of current dollars'].shift(-1)\n",
    "    GDP_quar['flag'] = (GDP_quar['GDP in billions of current dollars'] - GDP_quar['PrevGdp']) > 0\n",
    "    GDP_quar['NxtFlag'] = GDP_quar['flag'].shift(-1)\n",
    "    GDP_quar['NxtDoubleFlag'] = GDP_quar['flag'].shift(-2)\n",
    "    GDP_quar['PrvFlag'] = GDP_quar['flag'].shift(1)\n",
    "    GDP_quar['PrvDoubleFlag'] = GDP_quar['flag'].shift(2)\n",
    "    GDP_quar['PrvTripleFlag'] = GDP_quar['flag'].shift(3)\n",
    "    GDP_quar['PrvQuadFlag'] = GDP_quar['flag'].shift(4)\n",
    "    GDP_quar['StartRecc'] = GDP_quar.apply(lambda x:1 if (x['NxtDoubleFlag'] == False and x['NxtFlag'] == False) else 0, axis = 1)\n",
    "    GDP_quar['BottomRecc'] = GDP_quar.apply(lambda x:1 if \n",
    "                                         (x['NxtDoubleFlag'] == True and x['NxtFlag'] == True and \n",
    "                                         x['PrvDoubleFlag'] == False and x['PrvFlag'] == False) else 0, axis = 1)\n",
    "    GDP_quar['EndRecc'] = GDP_quar.apply(lambda x:1 if \n",
    "                                         (x['flag'] == True and x['PrvFlag'] == True and \n",
    "                                         x['PrvDoubleFlag'] == False and x['PrvTripleFlag'] == False) else 0, axis = 1)\n",
    "    \n",
    "    \n",
    "    \n",
    "    return GDP_quar[GDP_quar['EndRecc'] == 1].iloc[0]['yearQuar']"
   ]
  },
  {
   "cell_type": "code",
   "execution_count": 71,
   "metadata": {
    "collapsed": true,
    "umich_part_id": "024",
    "umich_partlist_id": "004"
   },
   "outputs": [],
   "source": [
    "def get_recession_bottom():\n",
    "    '''Returns the year and quarter of the recession bottom time as a \n",
    "    string value in a format such as 2005q3'''\n",
    "    GDP_yearly = pd.read_excel('gdplev.xls',skiprows=78,skipfooter=191)\n",
    "    GDP_yearly = GDP_yearly.drop(['Unnamed: 3', '1964q3',692.8,3766.9,'Unnamed: 7'], axis=1)\n",
    "    GDP_yearly.columns = ['year', 'GDP in billions of current dollars','GDP in billions of chained 2009 dollars']\n",
    "\n",
    "    GDP_quar = pd.read_excel('gdplev.xls',skiprows=219)\n",
    "    GDP_quar = GDP_quar.drop(['Unnamed: 0', 'Unnamed: 1','Unnamed: 2','Unnamed: 3','Unnamed: 7'], axis=1)\n",
    "    GDP_quar.columns = ['yearQuar', 'GDP in billions of current dollars','GDP in billions of chained 2009 dollars']\n",
    "\n",
    "    GDP_quar['PrevGdp'] = GDP_quar['GDP in billions of current dollars'].shift(1)\n",
    "    GDP_quar['NxtGdp'] = GDP_quar['GDP in billions of current dollars'].shift(-1)\n",
    "    GDP_quar['flag'] = (GDP_quar['GDP in billions of current dollars'] - GDP_quar['PrevGdp']) > 0\n",
    "    GDP_quar['NxtFlag'] = GDP_quar['flag'].shift(-1)\n",
    "    GDP_quar['NxtDoubleFlag'] = GDP_quar['flag'].shift(-2)\n",
    "    GDP_quar['PrvFlag'] = GDP_quar['flag'].shift(1)\n",
    "    GDP_quar['PrvDoubleFlag'] = GDP_quar['flag'].shift(2)\n",
    "    GDP_quar['PrvTripleFlag'] = GDP_quar['flag'].shift(3)\n",
    "    GDP_quar['PrvQuadFlag'] = GDP_quar['flag'].shift(4)\n",
    "    GDP_quar['StartRecc'] = GDP_quar.apply(lambda x:1 if (x['NxtDoubleFlag'] == False and x['NxtFlag'] == False) else 0, axis = 1)\n",
    "    GDP_quar['BottomRecc'] = GDP_quar.apply(lambda x:1 if \n",
    "                                         (x['NxtDoubleFlag'] == True and x['NxtFlag'] == True and \n",
    "                                         x['PrvDoubleFlag'] == False and x['PrvFlag'] == False) else 0, axis = 1)\n",
    "    GDP_quar['EndRecc'] = GDP_quar.apply(lambda x:1 if \n",
    "                                         (x['flag'] == True and x['PrvFlag'] == True and \n",
    "                                         x['PrvDoubleFlag'] == False and x['PrvTripleFlag'] == False) else 0, axis = 1)\n",
    "    \n",
    "    \n",
    "    \n",
    "    return GDP_quar[GDP_quar['BottomRecc'] == 1].iloc[0]['yearQuar']"
   ]
  },
  {
   "cell_type": "code",
   "execution_count": null,
   "metadata": {
    "collapsed": true
   },
   "outputs": [],
   "source": [
    "\n"
   ]
  },
  {
   "cell_type": "code",
   "execution_count": null,
   "metadata": {
    "collapsed": true
   },
   "outputs": [],
   "source": []
  },
  {
   "cell_type": "code",
   "execution_count": null,
   "metadata": {
    "collapsed": true,
    "scrolled": true
   },
   "outputs": [],
   "source": []
  },
  {
   "cell_type": "code",
   "execution_count": null,
   "metadata": {
    "collapsed": true
   },
   "outputs": [],
   "source": []
  },
  {
   "cell_type": "code",
   "execution_count": null,
   "metadata": {
    "collapsed": true
   },
   "outputs": [],
   "source": []
  },
  {
   "cell_type": "raw",
   "metadata": {},
   "source": []
  },
  {
   "cell_type": "code",
   "execution_count": null,
   "metadata": {
    "collapsed": true
   },
   "outputs": [],
   "source": []
  },
  {
   "cell_type": "code",
   "execution_count": 72,
   "metadata": {
    "umich_part_id": "025",
    "umich_partlist_id": "004"
   },
   "outputs": [],
   "source": [
    "def convert_housing_data_to_quarters():\n",
    "    '''Converts the housing data to quarters and returns it as mean \n",
    "    values in a dataframe. This dataframe should be a dataframe with\n",
    "    columns for 2000q1 through 2016q3, and should have a multi-index\n",
    "    in the shape of [\"State\",\"RegionName\"].\n",
    "    \n",
    "    Note: Quarters are defined in the assignment description, they are\n",
    "    not arbitrary three month periods.\n",
    "    \n",
    "    The resulting dataframe should have 67 columns, and 10,730 rows.\n",
    "    '''\n",
    "    housing_data = pd.read_csv('City_Zhvi_AllHomes.csv')\n",
    "    col_list = list(range(6,51))\n",
    "    housing_data.drop(housing_data.columns[col_list],axis=1,inplace=True)\n",
    "\n",
    "    ##Turn Dict to Dataframe\n",
    "    StateDict = pd.DataFrame.from_dict(states , orient = 'index').rename(columns={0:'State'}) \n",
    "    Merged_df = housing_data.merge(StateDict,left_on = 'State' , right_index = True)\n",
    "    Merged_df.drop(['State','RegionID','State_x','Metro','CountyName','SizeRank'],axis=1,inplace = True)\n",
    "    ##Change order of columns to get State at the begining\n",
    "    cols = Merged_df.columns.tolist()\n",
    "    cols = cols[-1:] + cols[:-1]\n",
    "    Merged_df = Merged_df[cols]\n",
    "    ##Change name of columns (that was renamed in the join)\n",
    "    Merged_df.rename(columns={'State_y': 'State'},inplace = True)\n",
    "\n",
    "    ##Select the years only\n",
    "    Years = Merged_df.iloc[:,2:len(Merged_df.columns)]\n",
    "    ##Convert columns type into datatime\n",
    "    Years.columns = pd.to_datetime(Years.columns)\n",
    "    ##Take averages based on quarters\n",
    "    Years_agg = Years.resample('Q',axis=1).mean()\n",
    "    ##Convert column names into string\n",
    "    Years_agg = Years_agg.rename(columns=lambda x: str(x.to_period('Q')).lower())\n",
    "    ##Get the state and region\n",
    "    Index_Columns = Merged_df.iloc[:,0:2]\n",
    "    ##Merge index with agg years\n",
    "    Final_result = Index_Columns.merge(Years_agg,left_index = True, right_index = True)\n",
    "    Final_result.set_index(['State','RegionName'],inplace = True)\n",
    "    return Final_result\n"
   ]
  },
  {
   "cell_type": "code",
   "execution_count": 97,
   "metadata": {},
   "outputs": [
    {
     "data": {
      "text/plain": [
       "'2008q2'"
      ]
     },
     "execution_count": 97,
     "metadata": {},
     "output_type": "execute_result"
    }
   ],
   "source": []
  },
  {
   "cell_type": "code",
   "execution_count": null,
   "metadata": {},
   "outputs": [],
   "source": []
  },
  {
   "cell_type": "code",
   "execution_count": null,
   "metadata": {
    "scrolled": true
   },
   "outputs": [],
   "source": []
  },
  {
   "cell_type": "code",
   "execution_count": null,
   "metadata": {},
   "outputs": [],
   "source": []
  },
  {
   "cell_type": "code",
   "execution_count": 188,
   "metadata": {
    "collapsed": true
   },
   "outputs": [],
   "source": [
    "#     Soultion 2: \n",
    "#     Desc: The idea was to melt the dataframe and turn the columns of the month into rows and have 1 columns \n",
    "#     called years and another called quarater, it didn't work as it requires grouping and some data was duplicated \n",
    "#     and the grader wanted them as is\n",
    "\n",
    "#############################################################\n",
    "#     housing_data = pd.read_csv('City_Zhvi_AllHomes.csv')\n",
    "#     housing_data\n",
    "#     col_list = list(range(6,51))\n",
    "#     housing_data.drop(housing_data.columns[col_list],axis=1,inplace=True)\n",
    "\n",
    "#     ## Breaking down the coloumns into rows for easy manipulation\n",
    "#     col_list = list(range(6,len(housing_data.columns)))\n",
    "#     housing_data_melted = pd.melt(housing_data,id_vars=['State','RegionName'] , value_vars=list(housing_data.columns[col_list]))\n",
    "#     ##Create anchor variables to group by with (Year, month)\n",
    "#     housing_data_melted['Year'] = housing_data_melted['variable'].str.slice(0,4)\n",
    "#     housing_data_melted['Quar'] = housing_data_melted['variable'].apply(lambda x:'q1' if int(x.split('-')[1]) <= 3 else 'q2' if int(x.split('-')[1]) <= 6 else 'q3' if int(x.split('-')[1]) <= 9 else 'q4')\n",
    "#     housing_data_melted['YearQuar'] = housing_data_melted['Year'] + housing_data_melted['Quar']\n",
    "#     Aggregatd_df = housing_data_melted.groupby(['State','RegionName','YearQuar'])[\"value\"].agg([np.mean])\n",
    "\n",
    "#     Aggregatd_df.reset_index(inplace = True)\n",
    "#     pivoted_df = Aggregatd_df.pivot_table(index=['State','RegionName'], columns='YearQuar', values='mean')\n",
    "#     pivoted_df.reset_index(inplace = True)\n",
    "#     pivoted_df.set_index(['State','RegionName'],inplace = True)"
   ]
  },
  {
   "cell_type": "code",
   "execution_count": 61,
   "metadata": {},
   "outputs": [],
   "source": [
    "# #pivoted_df.reset_index(inplace = True)\n",
    "# pivoted_df['StateRegion'] = pivoted_df['State'] + pivoted_df['RegionName']\n",
    "# housing_data['StateRegion'] = housing_data['State'] + housing_data['RegionName']\n",
    "# len(pivoted_df['StateRegion'].unique()) ## 10592\n",
    "# len(housing_data['StateRegion'].unique()) ##10592"
   ]
  },
  {
   "cell_type": "code",
   "execution_count": 200,
   "metadata": {
    "umich_part_id": "026",
    "umich_partlist_id": "004"
   },
   "outputs": [
    {
     "name": "stderr",
     "output_type": "stream",
     "text": [
      "/opt/conda/lib/python3.6/site-packages/ipykernel/__main__.py:28: DeprecationWarning: numpy boolean negative, the `-` operator, is deprecated, use the `~` operator or the logical_not function instead.\n"
     ]
    },
    {
     "data": {
      "text/plain": [
       "(True, 0.0027240637047531249, 'university town')"
      ]
     },
     "execution_count": 200,
     "metadata": {},
     "output_type": "execute_result"
    }
   ],
   "source": [
    "def run_ttest():\n",
    "    '''First creates new data showing the decline or growth of housing prices\n",
    "    between the recession start and the recession bottom. Then runs a ttest\n",
    "    comparing the university town values to the non-university towns values, \n",
    "    return whether the alternative hypothesis (that the two groups are the same)\n",
    "    is true or not as well as the p-value of the confidence. \n",
    "    \n",
    "    Return the tuple (different, p, better) where different=True if the t-test is\n",
    "    True at a p<0.01 (we reject the null hypothesis), or different=False if \n",
    "    otherwise (we cannot reject the null hypothesis). The variable p should\n",
    "    be equal to the exact p value returned from scipy.stats.ttest_ind(). The\n",
    "    value for better should be either \"university town\" or \"non-university town\"\n",
    "    depending on which has a lower mean price ratio (which is equivilent to a\n",
    "    reduced market loss).'''\n",
    "    \n",
    "    hdf = convert_housing_data_to_quarters()\n",
    "    rec_start=get_recession_start()\n",
    "    rec_bottom = get_recession_bottom()\n",
    "    rec_end = get_recession_end()\n",
    "    ul = get_list_of_university_towns()\n",
    "\n",
    "    QarBeforeRecc = str(pd.to_datetime(rec_start).to_period('Q') - 1).lower()\n",
    "    hdf['PriceRatio'] = hdf[QarBeforeRecc] / hdf[rec_bottom]\n",
    "\n",
    "    sublist = (ul.to_records(index=False)).tolist()\n",
    "    #UniversityTowns = hdf.loc[sublist]\n",
    "    UniversityTowns = ul.merge(hdf,how='inner',left_on = ['State','RegionName'],right_index = True)\n",
    "    Non_UniversityTowns = hdf.loc[-hdf.index.isin(sublist)]\n",
    "\n",
    "    ttest = ttest_ind(UniversityTowns['PriceRatio'],Non_UniversityTowns['PriceRatio'],nan_policy = 'omit')\n",
    "    universityMean = UniversityTowns['PriceRatio'].mean() \n",
    "    Non_UniversityTowns = Non_UniversityTowns['PriceRatio'].mean() \n",
    "\n",
    "    better = lambda universityMean,Non_UniversityTowns : 'non-university town' if universityMean > Non_UniversityTowns else 'university town'\n",
    "\n",
    "    different = lambda x: 'True' if x < 0.01 else 'False' \n",
    "    \n",
    "    Result = (different(ttest.pvalue)== 'True',ttest.pvalue,better(universityMean,Non_UniversityTowns))\n",
    "\n",
    "\n",
    "    return Result\n"
   ]
  },
  {
   "cell_type": "code",
   "execution_count": null,
   "metadata": {},
   "outputs": [],
   "source": []
  },
  {
   "cell_type": "code",
   "execution_count": null,
   "metadata": {},
   "outputs": [],
   "source": []
  },
  {
   "cell_type": "code",
   "execution_count": null,
   "metadata": {},
   "outputs": [],
   "source": []
  },
  {
   "cell_type": "code",
   "execution_count": null,
   "metadata": {
    "collapsed": true
   },
   "outputs": [],
   "source": []
  },
  {
   "cell_type": "code",
   "execution_count": null,
   "metadata": {},
   "outputs": [],
   "source": []
  },
  {
   "cell_type": "code",
   "execution_count": null,
   "metadata": {},
   "outputs": [],
   "source": []
  },
  {
   "cell_type": "code",
   "execution_count": null,
   "metadata": {
    "scrolled": true
   },
   "outputs": [],
   "source": []
  },
  {
   "cell_type": "code",
   "execution_count": null,
   "metadata": {},
   "outputs": [],
   "source": []
  },
  {
   "cell_type": "code",
   "execution_count": 192,
   "metadata": {},
   "outputs": [
    {
     "name": "stdout",
     "output_type": "stream",
     "text": [
      "Type test: Passed\n",
      "Test \"different\" type: Passed\n",
      "Test \"p\" type: Passed\n",
      "Test \"better\" type: Passed\n",
      "Test \"different\" spelling: Passed\n",
      "\n"
     ]
    },
    {
     "name": "stderr",
     "output_type": "stream",
     "text": [
      "/opt/conda/lib/python3.6/site-packages/ipykernel/__main__.py:28: DeprecationWarning: numpy boolean negative, the `-` operator, is deprecated, use the `~` operator or the logical_not function instead.\n"
     ]
    }
   ],
   "source": [
    "# def test_q6():\n",
    "#     q6 = run_ttest()\n",
    "#     different, p, better = q6\n",
    "\n",
    "#     res = 'Type test: '\n",
    "#     res += ['Failed\\n','Passed\\n'][type(q6) == tuple]\n",
    "\n",
    "#     res += 'Test \"different\" type: '\n",
    "#     res += ['Failed\\n','Passed\\n'][type(different) == bool or type(different) == np.bool_]\n",
    "\n",
    "#     res += 'Test \"p\" type: '\n",
    "#     res += ['Failed\\n','Passed\\n'][type(p) == np.float64]\n",
    "\n",
    "#     res +='Test \"better\" type: '\n",
    "#     res += ['Failed\\n','Passed\\n'][type(better) == str]\n",
    "#     if type(better) != str:\n",
    "#         res +='\"better\" should be a string with value \"university town\" or  \"non-university town\"'\n",
    "#         return res\n",
    "#     res += 'Test \"different\" spelling: '\n",
    "#     res += ['Failed\\n','Passed\\n'][better in [\"university town\", \"non-university town\"]]\n",
    "#     return res\n",
    "# print(test_q6())"
   ]
  },
  {
   "cell_type": "code",
   "execution_count": null,
   "metadata": {},
   "outputs": [],
   "source": []
  },
  {
   "cell_type": "code",
   "execution_count": null,
   "metadata": {},
   "outputs": [],
   "source": []
  },
  {
   "cell_type": "code",
   "execution_count": null,
   "metadata": {
    "collapsed": true
   },
   "outputs": [],
   "source": []
  }
 ],
 "metadata": {
  "coursera": {
   "course_slug": "python-data-analysis",
   "graded_item_id": "Il9Fx",
   "launcher_item_id": "TeDW0",
   "part_id": "WGlun"
  },
  "kernelspec": {
   "display_name": "Python 3",
   "language": "python",
   "name": "python3"
  },
  "language_info": {
   "codemirror_mode": {
    "name": "ipython",
    "version": 3
   },
   "file_extension": ".py",
   "mimetype": "text/x-python",
   "name": "python",
   "nbconvert_exporter": "python",
   "pygments_lexer": "ipython3",
   "version": "3.6.0"
  },
  "umich": {
   "id": "Assignment 4",
   "version": "1.1"
  }
 },
 "nbformat": 4,
 "nbformat_minor": 1
}
